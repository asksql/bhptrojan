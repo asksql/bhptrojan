{
 "cells": [
  {
   "cell_type": "code",
   "execution_count": null,
   "id": "8fda1aea",
   "metadata": {},
   "outputs": [],
   "source": [
    "import os\n",
    "def dirlister(**args):\n",
    "    print(\"[*] In dirlister module.\")\n",
    "    files = os.listdir(\".\")\n",
    "    return str(files)\n",
    "\n",
    "def environment(**args):\n",
    "    print(\"[*] In environment module.\")\n",
    "    return os.environ"
   ]
  },
  {
   "cell_type": "code",
   "execution_count": null,
   "id": "56152135",
   "metadata": {},
   "outputs": [
    {
     "name": "stdout",
     "output_type": "stream",
     "text": [
      "[*] In dirlister module.\n"
     ]
    },
    {
     "data": {
      "text/plain": [
       "\"['mytoken.txt', 'config', 'modules', 'data', '.git', '.gitignore', '.venv', 'test.ipynb']\""
      ]
     },
     "execution_count": 2,
     "metadata": {},
     "output_type": "execute_result"
    }
   ],
   "source": [
    "dir()"
   ]
  },
  {
   "cell_type": "code",
   "execution_count": null,
   "id": "0b9c7b0b",
   "metadata": {},
   "outputs": [],
   "source": []
  }
 ],
 "metadata": {
  "kernelspec": {
   "display_name": ".venv (3.13.5)",
   "language": "python",
   "name": "python3"
  },
  "language_info": {
   "codemirror_mode": {
    "name": "ipython",
    "version": 3
   },
   "file_extension": ".py",
   "mimetype": "text/x-python",
   "name": "python",
   "nbconvert_exporter": "python",
   "pygments_lexer": "ipython3",
   "version": "3.13.5"
  }
 },
 "nbformat": 4,
 "nbformat_minor": 5
}
